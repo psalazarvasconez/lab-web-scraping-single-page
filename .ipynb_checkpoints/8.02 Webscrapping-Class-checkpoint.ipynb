{
 "cells": [
  {
   "cell_type": "code",
   "execution_count": null,
   "id": "b81b1cc2",
   "metadata": {},
   "outputs": [],
   "source": [
    "import numpy as np\n",
    "import pandas as pd\n",
    "import requests\n",
    "import re\n",
    "\n",
    "from bs4 import BeautifulSoup"
   ]
  },
  {
   "cell_type": "code",
   "execution_count": null,
   "id": "94b2607d",
   "metadata": {},
   "outputs": [],
   "source": [
    "#Let's scrape and download all the images of https://en.wikipedia.org/wiki/List_of_highest-grossing_films\n",
    "\n",
    "url = \"https://en.wikipedia.org/wiki/List_of_highest-grossing_films\"\n",
    "r = requests.get(url)"
   ]
  },
  {
   "cell_type": "code",
   "execution_count": null,
   "id": "e6d4a66a",
   "metadata": {},
   "outputs": [],
   "source": [
    "# url = \"https://www.google.com/tru\"\n",
    "# r = requests.get(url)"
   ]
  },
  {
   "cell_type": "code",
   "execution_count": null,
   "id": "e76d6b8d",
   "metadata": {},
   "outputs": [],
   "source": [
    "#check status code\n",
    "if r.status_code < 300:\n",
    "    print(f'{r.status_code}: request was successful')\n",
    "elif r.status_code >= 400 and r.status_code < 500:\n",
    "    print(f'{r.status_code}: request failed because the resource either does not exist or is forbidden')\n",
    "else:\n",
    "    print(f'{r.status_code}: request failed because the response server encountered an error')\n"
   ]
  },
  {
   "cell_type": "code",
   "execution_count": null,
   "id": "4cdba6b0",
   "metadata": {},
   "outputs": [],
   "source": [
    "#parse html with BeautifulSoup\n",
    "soup = BeautifulSoup(page.content, 'html.parser') \n",
    "\n",
    "#get the images contained in this website\n",
    "imgs = soup.find_all(\"img\")\n",
    "imgs"
   ]
  },
  {
   "cell_type": "code",
   "execution_count": null,
   "id": "9f458dbb",
   "metadata": {},
   "outputs": [],
   "source": [
    "img_class= soup.find_all(\"img\", {\"class\": })\n",
    "img_class"
   ]
  },
  {
   "cell_type": "code",
   "execution_count": null,
   "id": "ab86c99a",
   "metadata": {},
   "outputs": [],
   "source": [
    "img_class[3]"
   ]
  },
  {
   "cell_type": "code",
   "execution_count": null,
   "id": "02b0c908",
   "metadata": {},
   "outputs": [],
   "source": []
  },
  {
   "cell_type": "code",
   "execution_count": null,
   "id": "c8aa510c",
   "metadata": {},
   "outputs": [],
   "source": []
  },
  {
   "cell_type": "code",
   "execution_count": null,
   "id": "b295d4f8",
   "metadata": {},
   "outputs": [],
   "source": []
  },
  {
   "cell_type": "code",
   "execution_count": null,
   "id": "2c63832e",
   "metadata": {},
   "outputs": [],
   "source": []
  },
  {
   "cell_type": "code",
   "execution_count": null,
   "id": "551cdb26",
   "metadata": {},
   "outputs": [],
   "source": []
  },
  {
   "cell_type": "code",
   "execution_count": null,
   "id": "230b696a",
   "metadata": {},
   "outputs": [],
   "source": [
    "test = imgs_wiki.loc[3][1]\n",
    "test"
   ]
  },
  {
   "cell_type": "code",
   "execution_count": null,
   "id": "6bb26a8d",
   "metadata": {},
   "outputs": [],
   "source": [
    "#Regex https://www.w3schools.com/python/python_regex.asp\n",
    "\n",
    "names_links=[]\n",
    "for i in imgs_wiki['link']:\n",
    "    pattern = r'/{1}([A-Z].*).jpg/'\n",
    "    name = re.findall(pattern,i)\n",
    "    names_links.append(name)\n",
    "imgs_wiki['names_links'] = pd.DataFrame(names_links)\n",
    "imgs_wiki"
   ]
  },
  {
   "cell_type": "code",
   "execution_count": null,
   "id": "e4b10e85",
   "metadata": {},
   "outputs": [],
   "source": [
    "#Let's download the images: each image link is in the link column\n",
    "imgs_wiki.loc[0][1]"
   ]
  },
  {
   "cell_type": "code",
   "execution_count": null,
   "id": "f592b705",
   "metadata": {},
   "outputs": [],
   "source": [
    "#Python file handling https://www.w3schools.com/python/python_file_handling.asp\n",
    "\n"
   ]
  },
  {
   "cell_type": "code",
   "execution_count": null,
   "id": "6ad95cb4",
   "metadata": {},
   "outputs": [],
   "source": [
    "\n",
    "#Webscrapping multiple pages\n",
    "\n",
    "url = \"https://quotes.toscrape.com/\"\n"
   ]
  },
  {
   "cell_type": "markdown",
   "id": "7e6279df",
   "metadata": {},
   "source": [
    "Check how the pages urls are constructed on this site:\n",
    "\n",
    "Homepage: https://quotes.toscrape.com/\n",
    "\n",
    "Second page of results (no tag searched): http://quotes.toscrape.com/page/2/\n",
    "\n",
    "Tag Love: https://quotes.toscrape.com/tag/love/\n",
    "\n",
    "Second page of results of Tag Love: https://quotes.toscrape.com/tag/love/page/2/\n",
    "\n",
    "First page of results of Tag Love can also be accesed vía: https://quotes.toscrape.com/tag/love/page/1/\n",
    "\n",
    "URLS without tag searched are : \"https://quotestoscrape.com/page/ followed by the page number\n",
    "\n",
    "URLS with tag searched are: \"https://quotes.toscrape.com/tag/\" + keyword + \"/page/\" + page_number"
   ]
  },
  {
   "cell_type": "code",
   "execution_count": null,
   "id": "f4c5a79c",
   "metadata": {},
   "outputs": [],
   "source": []
  },
  {
   "cell_type": "code",
   "execution_count": null,
   "id": "a9cc3fbf",
   "metadata": {},
   "outputs": [],
   "source": []
  },
  {
   "cell_type": "code",
   "execution_count": null,
   "id": "c5bbb4c3",
   "metadata": {},
   "outputs": [],
   "source": []
  },
  {
   "cell_type": "code",
   "execution_count": null,
   "id": "9db85861",
   "metadata": {},
   "outputs": [],
   "source": []
  },
  {
   "cell_type": "code",
   "execution_count": null,
   "id": "6fdf257e",
   "metadata": {},
   "outputs": [],
   "source": []
  },
  {
   "cell_type": "code",
   "execution_count": null,
   "id": "79c5e915",
   "metadata": {},
   "outputs": [],
   "source": []
  },
  {
   "cell_type": "code",
   "execution_count": null,
   "id": "fa77b97e",
   "metadata": {},
   "outputs": [],
   "source": [
    "#parse HTML\n"
   ]
  },
  {
   "cell_type": "code",
   "execution_count": null,
   "id": "56a82dc3",
   "metadata": {},
   "outputs": [],
   "source": []
  },
  {
   "cell_type": "code",
   "execution_count": null,
   "id": "1f8fe59a",
   "metadata": {},
   "outputs": [],
   "source": []
  },
  {
   "cell_type": "code",
   "execution_count": null,
   "id": "cafbdfee",
   "metadata": {},
   "outputs": [],
   "source": []
  },
  {
   "cell_type": "code",
   "execution_count": null,
   "id": "d38839a6",
   "metadata": {},
   "outputs": [],
   "source": []
  },
  {
   "cell_type": "code",
   "execution_count": null,
   "id": "83389964",
   "metadata": {},
   "outputs": [],
   "source": []
  },
  {
   "cell_type": "code",
   "execution_count": null,
   "id": "bc2b2722",
   "metadata": {},
   "outputs": [],
   "source": []
  },
  {
   "cell_type": "code",
   "execution_count": null,
   "id": "aa4e555a",
   "metadata": {},
   "outputs": [],
   "source": []
  },
  {
   "cell_type": "code",
   "execution_count": null,
   "id": "45309f82",
   "metadata": {},
   "outputs": [],
   "source": []
  },
  {
   "cell_type": "code",
   "execution_count": null,
   "id": "7d44308c",
   "metadata": {},
   "outputs": [],
   "source": []
  },
  {
   "cell_type": "code",
   "execution_count": null,
   "id": "5eec793d",
   "metadata": {},
   "outputs": [],
   "source": []
  },
  {
   "cell_type": "code",
   "execution_count": null,
   "id": "2a20d684",
   "metadata": {},
   "outputs": [],
   "source": []
  },
  {
   "cell_type": "code",
   "execution_count": null,
   "id": "2cd6d466",
   "metadata": {},
   "outputs": [],
   "source": []
  },
  {
   "cell_type": "code",
   "execution_count": null,
   "id": "b556959c",
   "metadata": {},
   "outputs": [],
   "source": []
  },
  {
   "cell_type": "code",
   "execution_count": null,
   "id": "af97da56",
   "metadata": {},
   "outputs": [],
   "source": []
  },
  {
   "cell_type": "code",
   "execution_count": null,
   "id": "4ba6bff2",
   "metadata": {},
   "outputs": [],
   "source": []
  },
  {
   "cell_type": "code",
   "execution_count": null,
   "id": "116209f7",
   "metadata": {},
   "outputs": [],
   "source": []
  },
  {
   "cell_type": "code",
   "execution_count": null,
   "id": "6175a40c",
   "metadata": {},
   "outputs": [],
   "source": []
  }
 ],
 "metadata": {
  "kernelspec": {
   "display_name": "DA_env",
   "language": "python",
   "name": "da_env"
  },
  "language_info": {
   "codemirror_mode": {
    "name": "ipython",
    "version": 3
   },
   "file_extension": ".py",
   "mimetype": "text/x-python",
   "name": "python",
   "nbconvert_exporter": "python",
   "pygments_lexer": "ipython3",
   "version": "3.9.16"
  }
 },
 "nbformat": 4,
 "nbformat_minor": 5
}
